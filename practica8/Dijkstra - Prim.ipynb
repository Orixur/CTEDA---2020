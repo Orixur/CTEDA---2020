{
 "cells": [
  {
   "cell_type": "code",
   "execution_count": 375,
   "metadata": {},
   "outputs": [],
   "source": [
    "import math\n",
    "import pandas as pd\n",
    "import numpy as np\n",
    "import matplotlib.pyplot as plt\n",
    "import random\n",
    "from copy import deepcopy\n",
    "from queue import Queue"
   ]
  },
  {
   "cell_type": "code",
   "execution_count": 14,
   "metadata": {},
   "outputs": [],
   "source": [
    "colors = ['r', 'g', 'b']"
   ]
  },
  {
   "cell_type": "code",
   "execution_count": 759,
   "metadata": {},
   "outputs": [],
   "source": [
    "class Node:\n",
    "    def __init__(self, data: int, x: float = None, y: float = None):\n",
    "        self.data = data\n",
    "        self.x = x or random.uniform(0.25, 1.7)\n",
    "        self.y = y or random.uniform(0.25, 1.7)\n",
    "        self.color = random.choices(colors)[0]\n",
    "        self.radius = 0.1\n",
    "        self.neighbours = []\n",
    "        \n",
    "    def view(self):\n",
    "        # return plt.Circle((self.x, self.y), self.radius, color=self.color, fill=False)\n",
    "        return plt.plot(self.x, self.y, 'ro')\n",
    "        \n",
    "    def __repr__(self):\n",
    "        return f\"<Nodo {self.data}>\""
   ]
  },
  {
   "cell_type": "code",
   "execution_count": 309,
   "metadata": {},
   "outputs": [],
   "source": [
    "class Arista:\n",
    "    def __init__(self, x, y, weight = None):\n",
    "        self._x = x\n",
    "        self._y = y\n",
    "        self._weight = weight or None\n",
    "        \n",
    "    @property\n",
    "    def x(self):\n",
    "        return self._x\n",
    "    \n",
    "    @x.setter\n",
    "    def x(self, value):\n",
    "        self._x = value\n",
    "        \n",
    "    @property\n",
    "    def y(self):\n",
    "        return self._y\n",
    "    \n",
    "    @y.setter\n",
    "    def y(self, value):\n",
    "        self._y = value\n",
    "        \n",
    "    @property\n",
    "    def weight(self):\n",
    "        return self._weight\n",
    "    \n",
    "    @weight.setter\n",
    "    def weight(self, value):\n",
    "        self._weight = value\n",
    "        \n",
    "    def __repr__(self):\n",
    "        return f\"<Arista {self.x} - {self.y}>\""
   ]
  },
  {
   "cell_type": "code",
   "execution_count": 310,
   "metadata": {},
   "outputs": [],
   "source": [
    "class BidirectialArista(Arista):\n",
    "    def __init__(self, *args, **kwargs):\n",
    "        super().__init__(*args, **kwargs)\n",
    "    \n",
    "    def __repr__(self):\n",
    "        return f\"<BidirectialArista {(self._x, self._y)}>\"\n",
    "    \n",
    "    \n",
    "class UnidirectionalArista(Arista):\n",
    "    def __init__(self, *args, **kwargs):\n",
    "        super().__init__(*args, **kwargs)\n",
    "    \n",
    "    def __repr__(self):\n",
    "        return f\"<UnidirectionalArista {self._x} to {self._y}>\""
   ]
  },
  {
   "cell_type": "code",
   "execution_count": 754,
   "metadata": {},
   "outputs": [],
   "source": [
    "class NodeArista:\n",
    "    def __init__(self, y, weight = None):\n",
    "        self._y = y\n",
    "        self._weight = weight or None\n",
    "        \n",
    "    @property\n",
    "    def y(self):\n",
    "        return self._y\n",
    "    \n",
    "    @y.setter\n",
    "    def y(self, value):\n",
    "        self._y = value\n",
    "        \n",
    "    @property\n",
    "    def weight(self):\n",
    "        return self._weight\n",
    "    \n",
    "    @weight.setter\n",
    "    def weight(self, value):\n",
    "        self._weight = value\n",
    "        \n",
    "    def __eq__(self, other):\n",
    "        if self.y == other.y:\n",
    "            return True\n",
    "        return False\n",
    "        \n",
    "    def __repr__(self):\n",
    "        return f\"<NodeArista to {self.y}>\""
   ]
  },
  {
   "cell_type": "code",
   "execution_count": 827,
   "metadata": {},
   "outputs": [],
   "source": [
    "class Graph:\n",
    "    def __init__(self):\n",
    "        self._vertexes = []\n",
    "        self._edges = []\n",
    "        \n",
    "    @property\n",
    "    def vertexes(self):\n",
    "        return self._vertexes\n",
    "    \n",
    "    @vertexes.setter\n",
    "    def vertexes(self, value):\n",
    "        self._vertexes = value\n",
    "    \n",
    "    @property\n",
    "    def edges(self):\n",
    "        return self._edges\n",
    "    \n",
    "    @edges.setter\n",
    "    def edges(self, value):\n",
    "        self._edges = value\n",
    "    \n",
    "    def add_edge(self, a_data, b_data, weight, edge_class: BidirectialArista):\n",
    "        node_data = [node.data for node in self._vertexes]\n",
    "        if a_data in node_data and b_data in node_data:\n",
    "            a_node = self.search_vertex(a_data)\n",
    "            b_node = self.search_vertex(b_data)\n",
    "            self._edges.append(edge_class(a_node, b_node, weight=weight))\n",
    "            if edge_class == BidirectialArista:\n",
    "                if not b_node in [n.y for n in a_node.neighbours]:\n",
    "                    a_node.neighbours.append(NodeArista(b_node, weight))\n",
    "                if not a_node in [n.y for n in b_node.neighbours]:\n",
    "                    b_node.neighbours.append(NodeArista(a_node, weight))\n",
    "            elif edge_class == UnidirectionalArista:\n",
    "                a_node.neighbours.append(NodeArista(b_node, weight))\n",
    "        else:\n",
    "            print('Esta intentado crear una conexión entre datos inexistentes.')\n",
    "    \n",
    "    def add_vertex(self, node):\n",
    "        if not isinstance(node, Node):\n",
    "            self._vertexes.append(Node(node))\n",
    "        else:\n",
    "            self._vertexes.append(node)\n",
    "            \n",
    "    def search_vertex(self, value):\n",
    "        for node in self._vertexes:\n",
    "            if node.data == value:\n",
    "                return node\n",
    "        \n",
    "    def draw(self):\n",
    "        fig, ax = plt.subplots()\n",
    "        for node in self._vertexes:\n",
    "            ax.add_artist(*node.view())\n",
    "            ax.annotate(node.data, xy=(node.x, node.y+0.15), fontsize=16, ha=\"center\", color=node.color)\n",
    "\n",
    "        for edge in self._edges:\n",
    "            dx = (edge.y.x - edge.x.x)\n",
    "            dy = (edge.y.y - edge.x.y)\n",
    "            if isinstance(edge, BidirectialArista):\n",
    "                plt.plot([edge.x.x, edge.y.x], [edge.x.y, edge.y.y], 'k-')\n",
    "                ax.text(x=(edge.x.x+edge.y.x)/2 + 0.05, y=(edge.x.y+edge.y.y)/2 + 0.05, s=str(edge.weight), fontsize=12)\n",
    "            elif isinstance(edge, UnidirectionalArista):\n",
    "                plt.arrow(edge.x.x, edge.x.y, dx, dy, length_includes_head=True,head_width=0.05, head_length=0.10, overhang=0.2)\n",
    "                ax.text(x=(edge.x.x+edge.y.x)/2 + 0.05, y=(edge.x.y+edge.y.y)/2 + 0.05, s=str(edge.weight), fontsize=16)\n",
    "\n",
    "        plt.axis([0,2,0,2])\n",
    "        return fig\n",
    "        \n",
    "    def dijkstra(self, origin: int, get_history=False):\n",
    "        history = []\n",
    "        state = pd.DataFrame(index=[node.data for node in self._vertexes], data={'dv': [float('inf')] * len(self._vertexes), 'pv': [0] * len(self._vertexes), 'conoc': [False] * len(self._vertexes)})\n",
    "        \n",
    "        state.at[origin, 'dv'] = 0\n",
    "        history.append(state)\n",
    "        while False in state['conoc'].unique():\n",
    "            not_visited_table = state[~state['conoc']]\n",
    "            if not not_visited_table.empty:\n",
    "                next_current_index = state[~state['conoc']][['dv']].idxmin()\n",
    "                current = self.search_vertex(next_current_index[0])\n",
    "            else:\n",
    "                break\n",
    "            \n",
    "            for edge in current.neighbours:\n",
    "                actual_distance = state.at[edge.y.data, 'dv']\n",
    "                updated_d = state.at[current.data, 'dv'] + edge.weight\n",
    "\n",
    "                if updated_d < actual_distance:\n",
    "                    state.at[edge.y.data, 'dv'] = updated_d\n",
    "                    state.at[edge.y.data, 'pv'] = current.data\n",
    "            \n",
    "            state.at[current.data, 'conoc'] = True\n",
    "            history.append(deepcopy(state))\n",
    "\n",
    "        if get_history:\n",
    "            return state, history\n",
    "        return state\n",
    "    \n",
    "    def shortest_path(self, origin, dest, table, show=False):\n",
    "        path = [dest]\n",
    "        current_node = table.at[dest, 'pv']\n",
    "        while current_node != origin:\n",
    "            path.append(current_node)\n",
    "            current_node = table.at[current_node, 'pv']\n",
    "        path.append(origin)\n",
    "        \n",
    "        if show:\n",
    "            aux_g = self\n",
    "            valid_edges = []\n",
    "            for _to, _from in zip(range(0, len(path)-1), range(1, len(path))):\n",
    "                print(path[_from], path[_to])\n",
    "                for n, edge in enumerate(aux_g.edges):\n",
    "                    if not (edge.x.data == path[_from] and edge.y.data == path[_to]):\n",
    "                        continue\n",
    "                    valid_edges.append(edge)\n",
    "            aux_g.edges = valid_edges\n",
    "            return path, aux_g\n",
    "                        \n",
    "        return path\n",
    "    \n",
    "    def search_edge(self, a, b):\n",
    "        for edge in self._edges:\n",
    "            if edge.x.data == a and edge.y.data == b:\n",
    "                return edge\n",
    "        print('search_edge, not founded: ', a, b)\n",
    "    \n",
    "    def prim(self, origin, get_history=False):\n",
    "        history = []\n",
    "        state = pd.DataFrame(index=[node.data for node in self._vertexes], data={'dv': [float('inf')] * len(self._vertexes), 'pv': [0] * len(self._vertexes), 'conoc': [False] * len(self._vertexes)})\n",
    "        minimum_expansion = []\n",
    "        \n",
    "        state.at[origin, 'dv'] = 0\n",
    "        history.append(state)\n",
    "        while False in state['conoc'].unique():\n",
    "            not_visited_table = state[~state['conoc']]\n",
    "            if not not_visited_table.empty:\n",
    "                next_current_index = state[~state['conoc']][['dv']].idxmin()\n",
    "                current = self.search_vertex(next_current_index[0])\n",
    "                \n",
    "                w = state.at[current.data, 'pv']\n",
    "                v = current.data\n",
    "                if w != 0:\n",
    "                    minimum_expansion.append(self.search_edge(a=w, b=v))\n",
    "            else:\n",
    "                break\n",
    "            \n",
    "            for edge in current.neighbours:\n",
    "                actual_distance = state.at[edge.y.data, 'dv']\n",
    "                updated_d = edge.weight\n",
    "\n",
    "                if updated_d < actual_distance:\n",
    "                    state.at[edge.y.data, 'dv'] = updated_d\n",
    "                    state.at[edge.y.data, 'pv'] = current.data\n",
    "            \n",
    "            state.at[current.data, 'conoc'] = True\n",
    "            history.append(deepcopy(state))\n",
    "        \n",
    "        prim_graph = Graph()\n",
    "        prim_graph.vertexes = self._vertexes\n",
    "        prim_graph.edges = minimum_expansion\n",
    "        \n",
    "        if get_history:\n",
    "            return state, history, prim_graph\n",
    "        return state, prim_graph"
   ]
  },
  {
   "cell_type": "code",
   "execution_count": 761,
   "metadata": {},
   "outputs": [],
   "source": [
    "g = Graph()"
   ]
  },
  {
   "cell_type": "code",
   "execution_count": 762,
   "metadata": {},
   "outputs": [
    {
     "data": {
      "text/plain": [
       "[<Nodo 1>, <Nodo 2>, <Nodo 3>, <Nodo 4>, <Nodo 5>, <Nodo 6>]"
      ]
     },
     "execution_count": 762,
     "metadata": {},
     "output_type": "execute_result"
    }
   ],
   "source": [
    "coords = {\n",
    "    1: {'x': 0.75, 'y': 1.75},\n",
    "    2: {'x': 1.25, 'y': 1.75},\n",
    "    3: {'x': 1.75, 'y': 1},\n",
    "    4: {'x': 1.25, 'y': 0.25},\n",
    "    5: {'x': 0.75, 'y': 0.25},\n",
    "    6: {'x': 0.25, 'y': 1},\n",
    "}\n",
    "\n",
    "for i in range(1, 7):\n",
    "    g.add_vertex(Node(data=i, x=coords[i]['x'], y=coords[i]['y']))\n",
    "g.vertexes"
   ]
  },
  {
   "cell_type": "code",
   "execution_count": 763,
   "metadata": {},
   "outputs": [],
   "source": [
    "g.add_edge(1,6,5, edge_class=UnidirectionalArista)\n",
    "g.add_edge(1,5,10, edge_class=UnidirectionalArista)\n",
    "g.add_edge(1,3,40, edge_class=UnidirectionalArista)\n",
    "\n",
    "g.add_edge(2,4,5, edge_class=UnidirectionalArista)\n",
    "\n",
    "g.add_edge(3,2,10, edge_class=UnidirectionalArista)\n",
    "g.add_edge(3,5,5, edge_class=UnidirectionalArista)\n",
    "\n",
    "g.add_edge(4,3,5, edge_class=UnidirectionalArista)\n",
    "\n",
    "g.add_edge(5,4,20, edge_class=UnidirectionalArista)\n",
    "\n",
    "g.add_edge(6,2,20, edge_class=UnidirectionalArista)\n",
    "g.add_edge(6,5,10, edge_class=UnidirectionalArista)"
   ]
  },
  {
   "cell_type": "code",
   "execution_count": 764,
   "metadata": {},
   "outputs": [],
   "source": [
    "final_state, history = g.dijkstra(1, get_history=True)"
   ]
  },
  {
   "cell_type": "code",
   "execution_count": 765,
   "metadata": {},
   "outputs": [
    {
     "data": {
      "text/html": [
       "<div>\n",
       "<style scoped>\n",
       "    .dataframe tbody tr th:only-of-type {\n",
       "        vertical-align: middle;\n",
       "    }\n",
       "\n",
       "    .dataframe tbody tr th {\n",
       "        vertical-align: top;\n",
       "    }\n",
       "\n",
       "    .dataframe thead th {\n",
       "        text-align: right;\n",
       "    }\n",
       "</style>\n",
       "<table border=\"1\" class=\"dataframe\">\n",
       "  <thead>\n",
       "    <tr style=\"text-align: right;\">\n",
       "      <th></th>\n",
       "      <th>dv</th>\n",
       "      <th>pv</th>\n",
       "      <th>conoc</th>\n",
       "    </tr>\n",
       "  </thead>\n",
       "  <tbody>\n",
       "    <tr>\n",
       "      <th>1</th>\n",
       "      <td>0.0</td>\n",
       "      <td>0</td>\n",
       "      <td>True</td>\n",
       "    </tr>\n",
       "    <tr>\n",
       "      <th>2</th>\n",
       "      <td>25.0</td>\n",
       "      <td>6</td>\n",
       "      <td>True</td>\n",
       "    </tr>\n",
       "    <tr>\n",
       "      <th>3</th>\n",
       "      <td>35.0</td>\n",
       "      <td>4</td>\n",
       "      <td>True</td>\n",
       "    </tr>\n",
       "    <tr>\n",
       "      <th>4</th>\n",
       "      <td>30.0</td>\n",
       "      <td>5</td>\n",
       "      <td>True</td>\n",
       "    </tr>\n",
       "    <tr>\n",
       "      <th>5</th>\n",
       "      <td>10.0</td>\n",
       "      <td>1</td>\n",
       "      <td>True</td>\n",
       "    </tr>\n",
       "    <tr>\n",
       "      <th>6</th>\n",
       "      <td>5.0</td>\n",
       "      <td>1</td>\n",
       "      <td>True</td>\n",
       "    </tr>\n",
       "  </tbody>\n",
       "</table>\n",
       "</div>"
      ],
      "text/plain": [
       "     dv  pv  conoc\n",
       "1   0.0   0   True\n",
       "2  25.0   6   True\n",
       "3  35.0   4   True\n",
       "4  30.0   5   True\n",
       "5  10.0   1   True\n",
       "6   5.0   1   True"
      ]
     },
     "execution_count": 765,
     "metadata": {},
     "output_type": "execute_result"
    }
   ],
   "source": [
    "history[0]"
   ]
  },
  {
   "cell_type": "code",
   "execution_count": 766,
   "metadata": {},
   "outputs": [
    {
     "data": {
      "text/html": [
       "<div>\n",
       "<style scoped>\n",
       "    .dataframe tbody tr th:only-of-type {\n",
       "        vertical-align: middle;\n",
       "    }\n",
       "\n",
       "    .dataframe tbody tr th {\n",
       "        vertical-align: top;\n",
       "    }\n",
       "\n",
       "    .dataframe thead th {\n",
       "        text-align: right;\n",
       "    }\n",
       "</style>\n",
       "<table border=\"1\" class=\"dataframe\">\n",
       "  <thead>\n",
       "    <tr style=\"text-align: right;\">\n",
       "      <th></th>\n",
       "      <th>dv</th>\n",
       "      <th>pv</th>\n",
       "      <th>conoc</th>\n",
       "    </tr>\n",
       "  </thead>\n",
       "  <tbody>\n",
       "    <tr>\n",
       "      <th>1</th>\n",
       "      <td>0.000000</td>\n",
       "      <td>0</td>\n",
       "      <td>True</td>\n",
       "    </tr>\n",
       "    <tr>\n",
       "      <th>2</th>\n",
       "      <td>inf</td>\n",
       "      <td>0</td>\n",
       "      <td>False</td>\n",
       "    </tr>\n",
       "    <tr>\n",
       "      <th>3</th>\n",
       "      <td>40.000000</td>\n",
       "      <td>1</td>\n",
       "      <td>False</td>\n",
       "    </tr>\n",
       "    <tr>\n",
       "      <th>4</th>\n",
       "      <td>inf</td>\n",
       "      <td>0</td>\n",
       "      <td>False</td>\n",
       "    </tr>\n",
       "    <tr>\n",
       "      <th>5</th>\n",
       "      <td>10.000000</td>\n",
       "      <td>1</td>\n",
       "      <td>False</td>\n",
       "    </tr>\n",
       "    <tr>\n",
       "      <th>6</th>\n",
       "      <td>5.000000</td>\n",
       "      <td>1</td>\n",
       "      <td>False</td>\n",
       "    </tr>\n",
       "  </tbody>\n",
       "</table>\n",
       "</div>"
      ],
      "text/plain": [
       "          dv  pv  conoc\n",
       "1   0.000000   0   True\n",
       "2        inf   0  False\n",
       "3  40.000000   1  False\n",
       "4        inf   0  False\n",
       "5  10.000000   1  False\n",
       "6   5.000000   1  False"
      ]
     },
     "execution_count": 766,
     "metadata": {},
     "output_type": "execute_result"
    }
   ],
   "source": [
    "history[1]"
   ]
  },
  {
   "cell_type": "code",
   "execution_count": 767,
   "metadata": {},
   "outputs": [
    {
     "data": {
      "text/html": [
       "<div>\n",
       "<style scoped>\n",
       "    .dataframe tbody tr th:only-of-type {\n",
       "        vertical-align: middle;\n",
       "    }\n",
       "\n",
       "    .dataframe tbody tr th {\n",
       "        vertical-align: top;\n",
       "    }\n",
       "\n",
       "    .dataframe thead th {\n",
       "        text-align: right;\n",
       "    }\n",
       "</style>\n",
       "<table border=\"1\" class=\"dataframe\">\n",
       "  <thead>\n",
       "    <tr style=\"text-align: right;\">\n",
       "      <th></th>\n",
       "      <th>dv</th>\n",
       "      <th>pv</th>\n",
       "      <th>conoc</th>\n",
       "    </tr>\n",
       "  </thead>\n",
       "  <tbody>\n",
       "    <tr>\n",
       "      <th>1</th>\n",
       "      <td>0.000000</td>\n",
       "      <td>0</td>\n",
       "      <td>True</td>\n",
       "    </tr>\n",
       "    <tr>\n",
       "      <th>2</th>\n",
       "      <td>25.000000</td>\n",
       "      <td>6</td>\n",
       "      <td>False</td>\n",
       "    </tr>\n",
       "    <tr>\n",
       "      <th>3</th>\n",
       "      <td>40.000000</td>\n",
       "      <td>1</td>\n",
       "      <td>False</td>\n",
       "    </tr>\n",
       "    <tr>\n",
       "      <th>4</th>\n",
       "      <td>inf</td>\n",
       "      <td>0</td>\n",
       "      <td>False</td>\n",
       "    </tr>\n",
       "    <tr>\n",
       "      <th>5</th>\n",
       "      <td>10.000000</td>\n",
       "      <td>1</td>\n",
       "      <td>False</td>\n",
       "    </tr>\n",
       "    <tr>\n",
       "      <th>6</th>\n",
       "      <td>5.000000</td>\n",
       "      <td>1</td>\n",
       "      <td>True</td>\n",
       "    </tr>\n",
       "  </tbody>\n",
       "</table>\n",
       "</div>"
      ],
      "text/plain": [
       "          dv  pv  conoc\n",
       "1   0.000000   0   True\n",
       "2  25.000000   6  False\n",
       "3  40.000000   1  False\n",
       "4        inf   0  False\n",
       "5  10.000000   1  False\n",
       "6   5.000000   1   True"
      ]
     },
     "execution_count": 767,
     "metadata": {},
     "output_type": "execute_result"
    }
   ],
   "source": [
    "history[2]"
   ]
  },
  {
   "cell_type": "code",
   "execution_count": 768,
   "metadata": {},
   "outputs": [
    {
     "data": {
      "text/html": [
       "<div>\n",
       "<style scoped>\n",
       "    .dataframe tbody tr th:only-of-type {\n",
       "        vertical-align: middle;\n",
       "    }\n",
       "\n",
       "    .dataframe tbody tr th {\n",
       "        vertical-align: top;\n",
       "    }\n",
       "\n",
       "    .dataframe thead th {\n",
       "        text-align: right;\n",
       "    }\n",
       "</style>\n",
       "<table border=\"1\" class=\"dataframe\">\n",
       "  <thead>\n",
       "    <tr style=\"text-align: right;\">\n",
       "      <th></th>\n",
       "      <th>dv</th>\n",
       "      <th>pv</th>\n",
       "      <th>conoc</th>\n",
       "    </tr>\n",
       "  </thead>\n",
       "  <tbody>\n",
       "    <tr>\n",
       "      <th>1</th>\n",
       "      <td>0.0</td>\n",
       "      <td>0</td>\n",
       "      <td>True</td>\n",
       "    </tr>\n",
       "    <tr>\n",
       "      <th>2</th>\n",
       "      <td>25.0</td>\n",
       "      <td>6</td>\n",
       "      <td>False</td>\n",
       "    </tr>\n",
       "    <tr>\n",
       "      <th>3</th>\n",
       "      <td>40.0</td>\n",
       "      <td>1</td>\n",
       "      <td>False</td>\n",
       "    </tr>\n",
       "    <tr>\n",
       "      <th>4</th>\n",
       "      <td>30.0</td>\n",
       "      <td>5</td>\n",
       "      <td>False</td>\n",
       "    </tr>\n",
       "    <tr>\n",
       "      <th>5</th>\n",
       "      <td>10.0</td>\n",
       "      <td>1</td>\n",
       "      <td>True</td>\n",
       "    </tr>\n",
       "    <tr>\n",
       "      <th>6</th>\n",
       "      <td>5.0</td>\n",
       "      <td>1</td>\n",
       "      <td>True</td>\n",
       "    </tr>\n",
       "  </tbody>\n",
       "</table>\n",
       "</div>"
      ],
      "text/plain": [
       "     dv  pv  conoc\n",
       "1   0.0   0   True\n",
       "2  25.0   6  False\n",
       "3  40.0   1  False\n",
       "4  30.0   5  False\n",
       "5  10.0   1   True\n",
       "6   5.0   1   True"
      ]
     },
     "execution_count": 768,
     "metadata": {},
     "output_type": "execute_result"
    }
   ],
   "source": [
    "history[3]"
   ]
  },
  {
   "cell_type": "code",
   "execution_count": 769,
   "metadata": {},
   "outputs": [
    {
     "data": {
      "text/html": [
       "<div>\n",
       "<style scoped>\n",
       "    .dataframe tbody tr th:only-of-type {\n",
       "        vertical-align: middle;\n",
       "    }\n",
       "\n",
       "    .dataframe tbody tr th {\n",
       "        vertical-align: top;\n",
       "    }\n",
       "\n",
       "    .dataframe thead th {\n",
       "        text-align: right;\n",
       "    }\n",
       "</style>\n",
       "<table border=\"1\" class=\"dataframe\">\n",
       "  <thead>\n",
       "    <tr style=\"text-align: right;\">\n",
       "      <th></th>\n",
       "      <th>dv</th>\n",
       "      <th>pv</th>\n",
       "      <th>conoc</th>\n",
       "    </tr>\n",
       "  </thead>\n",
       "  <tbody>\n",
       "    <tr>\n",
       "      <th>1</th>\n",
       "      <td>0.0</td>\n",
       "      <td>0</td>\n",
       "      <td>True</td>\n",
       "    </tr>\n",
       "    <tr>\n",
       "      <th>2</th>\n",
       "      <td>25.0</td>\n",
       "      <td>6</td>\n",
       "      <td>True</td>\n",
       "    </tr>\n",
       "    <tr>\n",
       "      <th>3</th>\n",
       "      <td>40.0</td>\n",
       "      <td>1</td>\n",
       "      <td>False</td>\n",
       "    </tr>\n",
       "    <tr>\n",
       "      <th>4</th>\n",
       "      <td>30.0</td>\n",
       "      <td>5</td>\n",
       "      <td>False</td>\n",
       "    </tr>\n",
       "    <tr>\n",
       "      <th>5</th>\n",
       "      <td>10.0</td>\n",
       "      <td>1</td>\n",
       "      <td>True</td>\n",
       "    </tr>\n",
       "    <tr>\n",
       "      <th>6</th>\n",
       "      <td>5.0</td>\n",
       "      <td>1</td>\n",
       "      <td>True</td>\n",
       "    </tr>\n",
       "  </tbody>\n",
       "</table>\n",
       "</div>"
      ],
      "text/plain": [
       "     dv  pv  conoc\n",
       "1   0.0   0   True\n",
       "2  25.0   6   True\n",
       "3  40.0   1  False\n",
       "4  30.0   5  False\n",
       "5  10.0   1   True\n",
       "6   5.0   1   True"
      ]
     },
     "execution_count": 769,
     "metadata": {},
     "output_type": "execute_result"
    }
   ],
   "source": [
    "history[4]"
   ]
  },
  {
   "cell_type": "code",
   "execution_count": 770,
   "metadata": {},
   "outputs": [
    {
     "data": {
      "text/html": [
       "<div>\n",
       "<style scoped>\n",
       "    .dataframe tbody tr th:only-of-type {\n",
       "        vertical-align: middle;\n",
       "    }\n",
       "\n",
       "    .dataframe tbody tr th {\n",
       "        vertical-align: top;\n",
       "    }\n",
       "\n",
       "    .dataframe thead th {\n",
       "        text-align: right;\n",
       "    }\n",
       "</style>\n",
       "<table border=\"1\" class=\"dataframe\">\n",
       "  <thead>\n",
       "    <tr style=\"text-align: right;\">\n",
       "      <th></th>\n",
       "      <th>dv</th>\n",
       "      <th>pv</th>\n",
       "      <th>conoc</th>\n",
       "    </tr>\n",
       "  </thead>\n",
       "  <tbody>\n",
       "    <tr>\n",
       "      <th>1</th>\n",
       "      <td>0.0</td>\n",
       "      <td>0</td>\n",
       "      <td>True</td>\n",
       "    </tr>\n",
       "    <tr>\n",
       "      <th>2</th>\n",
       "      <td>25.0</td>\n",
       "      <td>6</td>\n",
       "      <td>True</td>\n",
       "    </tr>\n",
       "    <tr>\n",
       "      <th>3</th>\n",
       "      <td>35.0</td>\n",
       "      <td>4</td>\n",
       "      <td>False</td>\n",
       "    </tr>\n",
       "    <tr>\n",
       "      <th>4</th>\n",
       "      <td>30.0</td>\n",
       "      <td>5</td>\n",
       "      <td>True</td>\n",
       "    </tr>\n",
       "    <tr>\n",
       "      <th>5</th>\n",
       "      <td>10.0</td>\n",
       "      <td>1</td>\n",
       "      <td>True</td>\n",
       "    </tr>\n",
       "    <tr>\n",
       "      <th>6</th>\n",
       "      <td>5.0</td>\n",
       "      <td>1</td>\n",
       "      <td>True</td>\n",
       "    </tr>\n",
       "  </tbody>\n",
       "</table>\n",
       "</div>"
      ],
      "text/plain": [
       "     dv  pv  conoc\n",
       "1   0.0   0   True\n",
       "2  25.0   6   True\n",
       "3  35.0   4  False\n",
       "4  30.0   5   True\n",
       "5  10.0   1   True\n",
       "6   5.0   1   True"
      ]
     },
     "execution_count": 770,
     "metadata": {},
     "output_type": "execute_result"
    }
   ],
   "source": [
    "history[5]"
   ]
  },
  {
   "cell_type": "code",
   "execution_count": 771,
   "metadata": {},
   "outputs": [
    {
     "data": {
      "text/html": [
       "<div>\n",
       "<style scoped>\n",
       "    .dataframe tbody tr th:only-of-type {\n",
       "        vertical-align: middle;\n",
       "    }\n",
       "\n",
       "    .dataframe tbody tr th {\n",
       "        vertical-align: top;\n",
       "    }\n",
       "\n",
       "    .dataframe thead th {\n",
       "        text-align: right;\n",
       "    }\n",
       "</style>\n",
       "<table border=\"1\" class=\"dataframe\">\n",
       "  <thead>\n",
       "    <tr style=\"text-align: right;\">\n",
       "      <th></th>\n",
       "      <th>dv</th>\n",
       "      <th>pv</th>\n",
       "      <th>conoc</th>\n",
       "    </tr>\n",
       "  </thead>\n",
       "  <tbody>\n",
       "    <tr>\n",
       "      <th>1</th>\n",
       "      <td>0.0</td>\n",
       "      <td>0</td>\n",
       "      <td>True</td>\n",
       "    </tr>\n",
       "    <tr>\n",
       "      <th>2</th>\n",
       "      <td>25.0</td>\n",
       "      <td>6</td>\n",
       "      <td>True</td>\n",
       "    </tr>\n",
       "    <tr>\n",
       "      <th>3</th>\n",
       "      <td>35.0</td>\n",
       "      <td>4</td>\n",
       "      <td>True</td>\n",
       "    </tr>\n",
       "    <tr>\n",
       "      <th>4</th>\n",
       "      <td>30.0</td>\n",
       "      <td>5</td>\n",
       "      <td>True</td>\n",
       "    </tr>\n",
       "    <tr>\n",
       "      <th>5</th>\n",
       "      <td>10.0</td>\n",
       "      <td>1</td>\n",
       "      <td>True</td>\n",
       "    </tr>\n",
       "    <tr>\n",
       "      <th>6</th>\n",
       "      <td>5.0</td>\n",
       "      <td>1</td>\n",
       "      <td>True</td>\n",
       "    </tr>\n",
       "  </tbody>\n",
       "</table>\n",
       "</div>"
      ],
      "text/plain": [
       "     dv  pv  conoc\n",
       "1   0.0   0   True\n",
       "2  25.0   6   True\n",
       "3  35.0   4   True\n",
       "4  30.0   5   True\n",
       "5  10.0   1   True\n",
       "6   5.0   1   True"
      ]
     },
     "execution_count": 771,
     "metadata": {},
     "output_type": "execute_result"
    }
   ],
   "source": [
    "history[6]"
   ]
  },
  {
   "cell_type": "markdown",
   "metadata": {},
   "source": [
    "-------------------"
   ]
  },
  {
   "cell_type": "code",
   "execution_count": 772,
   "metadata": {},
   "outputs": [
    {
     "data": {
      "image/png": "[encoded data removed]",
      "text/plain": [
       "<Figure size 432x288 with 1 Axes>"
      ]
     },
     "metadata": {
      "needs_background": "light"
     },
     "output_type": "display_data"
    }
   ],
   "source": [
    "a = g.draw()"
   ]
  },
  {
   "cell_type": "markdown",
   "metadata": {},
   "source": [
    "--------"
   ]
  },
  {
   "cell_type": "code",
   "execution_count": 773,
   "metadata": {},
   "outputs": [
    {
     "name": "stdout",
     "output_type": "stream",
     "text": [
      "4 3\n",
      "5 4\n",
      "1 5\n"
     ]
    }
   ],
   "source": [
    "path, aux_g = g.shortest_path(1, 3, final_state, show=True)"
   ]
  },
  {
   "cell_type": "code",
   "execution_count": 774,
   "metadata": {},
   "outputs": [
    {
     "data": {
      "image/png": "[encoded data removed]",
      "text/plain": [
       "<Figure size 432x288 with 1 Axes>"
      ]
     },
     "metadata": {
      "needs_background": "light"
     },
     "output_type": "display_data"
    }
   ],
   "source": [
    "b = aux_g.draw()"
   ]
  },
  {
   "cell_type": "code",
   "execution_count": 775,
   "metadata": {},
   "outputs": [
    {
     "data": {
      "text/plain": [
       "[<UnidirectionalArista <Nodo 4> to <Nodo 3>>,\n",
       " <UnidirectionalArista <Nodo 5> to <Nodo 4>>,\n",
       " <UnidirectionalArista <Nodo 1> to <Nodo 5>>]"
      ]
     },
     "execution_count": 775,
     "metadata": {},
     "output_type": "execute_result"
    }
   ],
   "source": [
    "aux_g.edges"
   ]
  },
  {
   "cell_type": "markdown",
   "metadata": {},
   "source": [
    "------------------\n",
    "# Resources\n",
    "- https://stackoverflow.com/questions/48847962/what-does-o-mean-in-matplotlibs-plot-function\n",
    "    - Formatters para plt.plot()"
   ]
  },
  {
   "cell_type": "code",
   "execution_count": 828,
   "metadata": {},
   "outputs": [],
   "source": [
    "g2 = Graph()"
   ]
  },
  {
   "cell_type": "code",
   "execution_count": 829,
   "metadata": {},
   "outputs": [
    {
     "data": {
      "text/plain": [
       "[<Nodo 1>, <Nodo 2>, <Nodo 3>, <Nodo 4>, <Nodo 5>, <Nodo 6>]"
      ]
     },
     "execution_count": 829,
     "metadata": {},
     "output_type": "execute_result"
    }
   ],
   "source": [
    "coords = {\n",
    "    1: {'x': 1, 'y': 1.75},\n",
    "    2: {'x': 0.25, 'y': 1},\n",
    "    3: {'x': 1, 'y': 1},\n",
    "    4: {'x': 1.75, 'y': 1},\n",
    "    5: {'x': 0.75, 'y': 0.25},\n",
    "    6: {'x': 1.25, 'y': 0.25},\n",
    "}\n",
    "\n",
    "for i in range(1, 7):\n",
    "    g2.add_vertex(Node(data=i, x=coords[i]['x'], y=coords[i]['y']))\n",
    "g2.vertexes"
   ]
  },
  {
   "cell_type": "code",
   "execution_count": 830,
   "metadata": {},
   "outputs": [],
   "source": [
    "g2.add_edge(1,2,6, edge_class=BidirectialArista)\n",
    "g2.add_edge(1,3,1, edge_class=BidirectialArista)\n",
    "g2.add_edge(1,4,5, edge_class=BidirectialArista)\n",
    "\n",
    "g2.add_edge(2,1,6, edge_class=BidirectialArista)\n",
    "g2.add_edge(2,3,5, edge_class=BidirectialArista)\n",
    "g2.add_edge(2,5,3, edge_class=BidirectialArista)\n",
    "\n",
    "g2.add_edge(3,1,1, edge_class=BidirectialArista)\n",
    "g2.add_edge(3,2,5, edge_class=BidirectialArista)\n",
    "g2.add_edge(3,5,6, edge_class=BidirectialArista)\n",
    "g2.add_edge(3,6,4, edge_class=BidirectialArista)\n",
    "g2.add_edge(3,4,5, edge_class=BidirectialArista)\n",
    "\n",
    "g2.add_edge(4,1,5, edge_class=BidirectialArista)\n",
    "g2.add_edge(4,3,5, edge_class=BidirectialArista)\n",
    "g2.add_edge(4,6,2, edge_class=BidirectialArista)\n",
    "\n",
    "g2.add_edge(5,2,3, edge_class=BidirectialArista)\n",
    "g2.add_edge(5,3,6, edge_class=BidirectialArista)\n",
    "g2.add_edge(5,6,6, edge_class=BidirectialArista)\n",
    "\n",
    "g2.add_edge(6,5,6, edge_class=BidirectialArista)\n",
    "g2.add_edge(6,3,4, edge_class=BidirectialArista)\n",
    "g2.add_edge(6,4,2, edge_class=BidirectialArista)"
   ]
  },
  {
   "cell_type": "code",
   "execution_count": 831,
   "metadata": {},
   "outputs": [
    {
     "name": "stdout",
     "output_type": "stream",
     "text": [
      "3\n"
     ]
    },
    {
     "data": {
      "text/plain": [
       "[<NodeArista to <Nodo 1>>,\n",
       " <NodeArista to <Nodo 2>>,\n",
       " <NodeArista to <Nodo 5>>,\n",
       " <NodeArista to <Nodo 6>>,\n",
       " <NodeArista to <Nodo 4>>]"
      ]
     },
     "execution_count": 831,
     "metadata": {},
     "output_type": "execute_result"
    }
   ],
   "source": [
    "i = 2\n",
    "print(g2.vertexes[i].data)\n",
    "g2.vertexes[i].neighbours"
   ]
  },
  {
   "cell_type": "code",
   "execution_count": 832,
   "metadata": {},
   "outputs": [
    {
     "data": {
      "image/png": "[encoded data removed]",
      "text/plain": [
       "<Figure size 432x288 with 1 Axes>"
      ]
     },
     "metadata": {
      "needs_background": "light"
     },
     "output_type": "display_data"
    }
   ],
   "source": [
    "b = g2.draw()"
   ]
  },
  {
   "cell_type": "code",
   "execution_count": 833,
   "metadata": {},
   "outputs": [],
   "source": [
    "state, history, prim_graph = g2.prim(1, get_history=True)"
   ]
  },
  {
   "cell_type": "code",
   "execution_count": 834,
   "metadata": {},
   "outputs": [
    {
     "data": {
      "image/png": "[encoded data removed]",
      "text/plain": [
       "<Figure size 432x288 with 1 Axes>"
      ]
     },
     "execution_count": 834,
     "metadata": {},
     "output_type": "execute_result"
    },
    {
     "data": {
      "image/png": "[encoded data removed]",
      "text/plain": [
       "<Figure size 432x288 with 1 Axes>"
      ]
     },
     "metadata": {
      "needs_background": "light"
     },
     "output_type": "display_data"
    }
   ],
   "source": [
    "prim_graph.draw()"
   ]
  },
  {
   "cell_type": "code",
   "execution_count": 835,
   "metadata": {},
   "outputs": [
    {
     "data": {
      "text/html": [
       "<div>\n",
       "<style scoped>\n",
       "    .dataframe tbody tr th:only-of-type {\n",
       "        vertical-align: middle;\n",
       "    }\n",
       "\n",
       "    .dataframe tbody tr th {\n",
       "        vertical-align: top;\n",
       "    }\n",
       "\n",
       "    .dataframe thead th {\n",
       "        text-align: right;\n",
       "    }\n",
       "</style>\n",
       "<table border=\"1\" class=\"dataframe\">\n",
       "  <thead>\n",
       "    <tr style=\"text-align: right;\">\n",
       "      <th></th>\n",
       "      <th>dv</th>\n",
       "      <th>pv</th>\n",
       "      <th>conoc</th>\n",
       "    </tr>\n",
       "  </thead>\n",
       "  <tbody>\n",
       "    <tr>\n",
       "      <th>1</th>\n",
       "      <td>0.000000</td>\n",
       "      <td>0</td>\n",
       "      <td>True</td>\n",
       "    </tr>\n",
       "    <tr>\n",
       "      <th>2</th>\n",
       "      <td>6.000000</td>\n",
       "      <td>1</td>\n",
       "      <td>False</td>\n",
       "    </tr>\n",
       "    <tr>\n",
       "      <th>3</th>\n",
       "      <td>1.000000</td>\n",
       "      <td>1</td>\n",
       "      <td>False</td>\n",
       "    </tr>\n",
       "    <tr>\n",
       "      <th>4</th>\n",
       "      <td>5.000000</td>\n",
       "      <td>1</td>\n",
       "      <td>False</td>\n",
       "    </tr>\n",
       "    <tr>\n",
       "      <th>5</th>\n",
       "      <td>inf</td>\n",
       "      <td>0</td>\n",
       "      <td>False</td>\n",
       "    </tr>\n",
       "    <tr>\n",
       "      <th>6</th>\n",
       "      <td>inf</td>\n",
       "      <td>0</td>\n",
       "      <td>False</td>\n",
       "    </tr>\n",
       "  </tbody>\n",
       "</table>\n",
       "</div>"
      ],
      "text/plain": [
       "         dv  pv  conoc\n",
       "1  0.000000   0   True\n",
       "2  6.000000   1  False\n",
       "3  1.000000   1  False\n",
       "4  5.000000   1  False\n",
       "5       inf   0  False\n",
       "6       inf   0  False"
      ]
     },
     "execution_count": 835,
     "metadata": {},
     "output_type": "execute_result"
    }
   ],
   "source": [
    "history[1]"
   ]
  },
  {
   "cell_type": "code",
   "execution_count": 836,
   "metadata": {},
   "outputs": [
    {
     "data": {
      "text/html": [
       "<div>\n",
       "<style scoped>\n",
       "    .dataframe tbody tr th:only-of-type {\n",
       "        vertical-align: middle;\n",
       "    }\n",
       "\n",
       "    .dataframe tbody tr th {\n",
       "        vertical-align: top;\n",
       "    }\n",
       "\n",
       "    .dataframe thead th {\n",
       "        text-align: right;\n",
       "    }\n",
       "</style>\n",
       "<table border=\"1\" class=\"dataframe\">\n",
       "  <thead>\n",
       "    <tr style=\"text-align: right;\">\n",
       "      <th></th>\n",
       "      <th>dv</th>\n",
       "      <th>pv</th>\n",
       "      <th>conoc</th>\n",
       "    </tr>\n",
       "  </thead>\n",
       "  <tbody>\n",
       "    <tr>\n",
       "      <th>1</th>\n",
       "      <td>0.0</td>\n",
       "      <td>0</td>\n",
       "      <td>True</td>\n",
       "    </tr>\n",
       "    <tr>\n",
       "      <th>2</th>\n",
       "      <td>5.0</td>\n",
       "      <td>3</td>\n",
       "      <td>False</td>\n",
       "    </tr>\n",
       "    <tr>\n",
       "      <th>3</th>\n",
       "      <td>1.0</td>\n",
       "      <td>1</td>\n",
       "      <td>True</td>\n",
       "    </tr>\n",
       "    <tr>\n",
       "      <th>4</th>\n",
       "      <td>5.0</td>\n",
       "      <td>1</td>\n",
       "      <td>False</td>\n",
       "    </tr>\n",
       "    <tr>\n",
       "      <th>5</th>\n",
       "      <td>6.0</td>\n",
       "      <td>3</td>\n",
       "      <td>False</td>\n",
       "    </tr>\n",
       "    <tr>\n",
       "      <th>6</th>\n",
       "      <td>4.0</td>\n",
       "      <td>3</td>\n",
       "      <td>False</td>\n",
       "    </tr>\n",
       "  </tbody>\n",
       "</table>\n",
       "</div>"
      ],
      "text/plain": [
       "    dv  pv  conoc\n",
       "1  0.0   0   True\n",
       "2  5.0   3  False\n",
       "3  1.0   1   True\n",
       "4  5.0   1  False\n",
       "5  6.0   3  False\n",
       "6  4.0   3  False"
      ]
     },
     "execution_count": 836,
     "metadata": {},
     "output_type": "execute_result"
    }
   ],
   "source": [
    "history[2]"
   ]
  },
  {
   "cell_type": "code",
   "execution_count": 837,
   "metadata": {},
   "outputs": [
    {
     "data": {
      "text/html": [
       "<div>\n",
       "<style scoped>\n",
       "    .dataframe tbody tr th:only-of-type {\n",
       "        vertical-align: middle;\n",
       "    }\n",
       "\n",
       "    .dataframe tbody tr th {\n",
       "        vertical-align: top;\n",
       "    }\n",
       "\n",
       "    .dataframe thead th {\n",
       "        text-align: right;\n",
       "    }\n",
       "</style>\n",
       "<table border=\"1\" class=\"dataframe\">\n",
       "  <thead>\n",
       "    <tr style=\"text-align: right;\">\n",
       "      <th></th>\n",
       "      <th>dv</th>\n",
       "      <th>pv</th>\n",
       "      <th>conoc</th>\n",
       "    </tr>\n",
       "  </thead>\n",
       "  <tbody>\n",
       "    <tr>\n",
       "      <th>1</th>\n",
       "      <td>0.0</td>\n",
       "      <td>0</td>\n",
       "      <td>True</td>\n",
       "    </tr>\n",
       "    <tr>\n",
       "      <th>2</th>\n",
       "      <td>5.0</td>\n",
       "      <td>3</td>\n",
       "      <td>False</td>\n",
       "    </tr>\n",
       "    <tr>\n",
       "      <th>3</th>\n",
       "      <td>1.0</td>\n",
       "      <td>1</td>\n",
       "      <td>True</td>\n",
       "    </tr>\n",
       "    <tr>\n",
       "      <th>4</th>\n",
       "      <td>2.0</td>\n",
       "      <td>6</td>\n",
       "      <td>False</td>\n",
       "    </tr>\n",
       "    <tr>\n",
       "      <th>5</th>\n",
       "      <td>6.0</td>\n",
       "      <td>3</td>\n",
       "      <td>False</td>\n",
       "    </tr>\n",
       "    <tr>\n",
       "      <th>6</th>\n",
       "      <td>4.0</td>\n",
       "      <td>3</td>\n",
       "      <td>True</td>\n",
       "    </tr>\n",
       "  </tbody>\n",
       "</table>\n",
       "</div>"
      ],
      "text/plain": [
       "    dv  pv  conoc\n",
       "1  0.0   0   True\n",
       "2  5.0   3  False\n",
       "3  1.0   1   True\n",
       "4  2.0   6  False\n",
       "5  6.0   3  False\n",
       "6  4.0   3   True"
      ]
     },
     "execution_count": 837,
     "metadata": {},
     "output_type": "execute_result"
    }
   ],
   "source": [
    "history[3]"
   ]
  },
  {
   "cell_type": "code",
   "execution_count": null,
   "metadata": {},
   "outputs": [],
   "source": []
  }
 ],
 "metadata": {
  "kernelspec": {
   "display_name": "Python 3",
   "language": "python",
   "name": "python3"
  },
  "language_info": {
   "codemirror_mode": {
    "name": "ipython",
    "version": 3
   },
   "file_extension": ".py",
   "mimetype": "text/x-python",
   "name": "python",
   "nbconvert_exporter": "python",
   "pygments_lexer": "ipython3",
   "version": "3.7.1"
  }
 },
 "nbformat": 4,
 "nbformat_minor": 2
}
